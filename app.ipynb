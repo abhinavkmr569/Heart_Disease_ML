{
  "nbformat": 4,
  "nbformat_minor": 0,
  "metadata": {
    "kernelspec": {
      "display_name": "Python 3",
      "language": "python",
      "name": "python3"
    },
    "language_info": {
      "codemirror_mode": {
        "name": "ipython",
        "version": 3
      },
      "file_extension": ".py",
      "mimetype": "text/x-python",
      "name": "python",
      "nbconvert_exporter": "python",
      "pygments_lexer": "ipython3",
      "version": "3.7.7"
    },
    "colab": {
      "name": "app.ipynb",
      "provenance": [],
      "collapsed_sections": [],
      "toc_visible": true
    }
  },
  "cells": [
    {
      "cell_type": "code",
      "metadata": {
        "id": "pXKR34cIdZm5",
        "colab_type": "code",
        "outputId": "ee3a74ae-e221-4dc9-f61a-924a1d65ffad",
        "colab": {
          "base_uri": "https://localhost:8080/",
          "height": 454
        }
      },
      "source": [
        "import flask\n",
        "from flask import Flask,jsonify,render_template\n",
        "import pickle\n",
        "from sklearn.model_selection import train_test_split\n",
        "#from google.colab import files\n",
        "#Heart_Disease = files.upload()\n",
        "!wget https://github.com/abhinavkmr569/Heart_Disease_ML/raw/master/Heart_Disease.zip\n",
        "!unzip Heart_Disease.zip\n"
      ],
      "execution_count": 4,
      "outputs": [
        {
          "output_type": "stream",
          "text": [
            "--2020-06-11 13:07:25--  https://github.com/abhinavkmr569/Heart_Disease_ML/raw/master/Heart_Disease.zip\n",
            "Resolving github.com (github.com)... 140.82.114.3\n",
            "Connecting to github.com (github.com)|140.82.114.3|:443... connected.\n",
            "HTTP request sent, awaiting response... 302 Found\n",
            "Location: https://raw.githubusercontent.com/abhinavkmr569/Heart_Disease_ML/master/Heart_Disease.zip [following]\n",
            "--2020-06-11 13:07:26--  https://raw.githubusercontent.com/abhinavkmr569/Heart_Disease_ML/master/Heart_Disease.zip\n",
            "Resolving raw.githubusercontent.com (raw.githubusercontent.com)... 151.101.0.133, 151.101.64.133, 151.101.128.133, ...\n",
            "Connecting to raw.githubusercontent.com (raw.githubusercontent.com)|151.101.0.133|:443... connected.\n",
            "HTTP request sent, awaiting response... 200 OK\n",
            "Length: 78650 (77K) [application/zip]\n",
            "Saving to: ‘Heart_Disease.zip’\n",
            "\n",
            "Heart_Disease.zip   100%[===================>]  76.81K  --.-KB/s    in 0.03s   \n",
            "\n",
            "2020-06-11 13:07:26 (2.62 MB/s) - ‘Heart_Disease.zip’ saved [78650/78650]\n",
            "\n",
            "Archive:  Heart_Disease.zip\n",
            "   creating: model/\n",
            "  inflating: model/heart_model.pkl   \n",
            "   creating: templates/\n",
            "  inflating: templates/index.html    \n",
            "  inflating: templates/main.html     \n",
            "  inflating: app.ipynb               \n",
            "  inflating: cleveland.csv           \n",
            "  inflating: Heart_project_IEEE.ipynb  \n",
            "  inflating: requirements.txt        \n"
          ],
          "name": "stdout"
        }
      ]
    },
    {
      "cell_type": "code",
      "metadata": {
        "id": "HUY6gmOYCsN4",
        "colab_type": "code",
        "colab": {}
      },
      "source": [
        ""
      ],
      "execution_count": 0,
      "outputs": []
    },
    {
      "cell_type": "code",
      "metadata": {
        "id": "PQ5AxDn9gR6r",
        "colab_type": "code",
        "colab": {}
      },
      "source": [
        "import numpy as np\n",
        "import pandas as pd\n",
        "df = pd.read_csv('cleveland.csv', header = None)\n",
        "df.columns = ['age', 'sex', 'cp', 'trestbps', 'chol',\n",
        "              'fbs', 'restecg', 'thalach', 'exang', \n",
        "              'oldpeak', 'slope', 'ca', 'thal', 'target']\n",
        "df['target'] = df.target.map({0: 0, 1: 1, 2: 1, 3: 1, 4: 1})\n",
        "df['thal'] = df.thal.fillna(df.thal.mean())\n",
        "df['ca'] = df.ca.fillna(df.ca.mean())\n",
        "df['sex'] = df.sex.map({'female': 0, 'male': 1})\n",
        "X = df.iloc[:, :-1].values\n",
        "y = df.iloc[:, -1].values\n"
      ],
      "execution_count": 0,
      "outputs": []
    },
    {
      "cell_type": "markdown",
      "metadata": {
        "id": "WrLR1Rj_Z__Q",
        "colab_type": "text"
      },
      "source": [
        "###Install ngrok first if you haven't already (pip code is commented)"
      ]
    },
    {
      "cell_type": "code",
      "metadata": {
        "id": "64yI4MbHdZnB",
        "colab_type": "code",
        "outputId": "d26bb9bd-a2c4-450a-9e19-13430bee0da9",
        "colab": {
          "base_uri": "https://localhost:8080/",
          "height": 423
        }
      },
      "source": [
        "from sklearn.preprocessing import StandardScaler\n",
        "from sklearn.model_selection import train_test_split\n",
        "with open(f'model/heart_model.pkl', 'rb') as f:\n",
        "    model = pickle.load(f)\n",
        "app = Flask(__name__, template_folder='templates')\n",
        "\n",
        "def input_scaler(age,sex,cp,trestbps,chol,fb,restecg,thalach,exang,oldpeak,slope,ca,thal):\n",
        "  if sex == 'female': sex = 0\n",
        "  else : sex = 1\n",
        "  X_train, _, _, _ = train_test_split(X, y, test_size = 0.18,random_state = 42)\n",
        "  input_np = [age,sex,cp,trestbps,chol,fb,restecg,thalach,exang,oldpeak,slope,ca,thal]\n",
        "  X_train = np.vstack([X_train,input_np])\n",
        "  sc = StandardScaler()\n",
        "  X_train = sc.fit_transform(X_train)\n",
        "  return X_train[-1:]\n",
        " \n",
        "# INSTALL NGROK if error occurs\n",
        "\n",
        "#!pip install flask==0.12.2\n",
        "!pip install flask-ngrok\n",
        "from flask_ngrok import run_with_ngrok\n",
        "app = Flask(__name__)\n",
        "run_with_ngrok(app)\n",
        "\n",
        "@app.route('/')\n",
        "def home():\n",
        "    return render_template('index.html')\n",
        "\n",
        "@app.route('/predict',methods=['POST'])\n",
        "def predict():\n",
        "    '''\n",
        "    For rendering results on HTML GUI\n",
        "    '''\n",
        "    age = flask.request.form['age']\n",
        "    sex = flask.request.form['sex']\n",
        "    cp = flask.request.form['cp']\n",
        "    trestbps = flask.request.form['trestbps']\n",
        "    chol = flask.request.form['chol']\n",
        "    fbs = flask.request.form['fbs']\n",
        "    restecg = flask.request.form['restecg']\n",
        "    thalach = flask.request.form['thalach']\n",
        "    exang = flask.request.form['exang']\n",
        "    oldpeak = flask.request.form['oldpeak']\n",
        "    slope = flask.request.form['slope']\n",
        "    ca = flask.request.form['ca']\n",
        "    thal = flask.request.form['thal']\n",
        " \n",
        "    \n",
        "\n",
        "    input_scaled = input_scaler(age,sex,cp,trestbps,chol,fbs,restecg,thalach,exang,oldpeak,slope,ca,thal)\n",
        "    prediction = model.predict(input_scaled)\n",
        "    output = prediction[0]\n",
        "\n",
        "    if (output == 1): \n",
        "        a = \"You should see a heart doctor as soon as possible. Take Care\"\n",
        "        return render_template('main.html', Result =' {}'.format(a))\n",
        "    else:\n",
        "        a = \"Don't worry, you are safe. Take Care\"\n",
        "        return render_template('main.html', Result =' {}'.format(a))\n",
        "\n",
        "if __name__ == '__main__':\n",
        "    app.run()\n",
        "    \n",
        "\n"
      ],
      "execution_count": 8,
      "outputs": [
        {
          "output_type": "stream",
          "text": [
            "/usr/local/lib/python3.6/dist-packages/sklearn/base.py:318: UserWarning: Trying to unpickle estimator SVC from version 0.22.1 when using version 0.22.2.post1. This might lead to breaking code or invalid results. Use at your own risk.\n",
            "  UserWarning)\n"
          ],
          "name": "stderr"
        },
        {
          "output_type": "stream",
          "text": [
            "Requirement already satisfied: flask-ngrok in /usr/local/lib/python3.6/dist-packages (0.0.25)\n",
            "Requirement already satisfied: Flask>=0.8 in /usr/local/lib/python3.6/dist-packages (from flask-ngrok) (1.1.2)\n",
            "Requirement already satisfied: requests in /usr/local/lib/python3.6/dist-packages (from flask-ngrok) (2.23.0)\n",
            "Requirement already satisfied: Werkzeug>=0.15 in /usr/local/lib/python3.6/dist-packages (from Flask>=0.8->flask-ngrok) (1.0.1)\n",
            "Requirement already satisfied: itsdangerous>=0.24 in /usr/local/lib/python3.6/dist-packages (from Flask>=0.8->flask-ngrok) (1.1.0)\n",
            "Requirement already satisfied: Jinja2>=2.10.1 in /usr/local/lib/python3.6/dist-packages (from Flask>=0.8->flask-ngrok) (2.11.2)\n",
            "Requirement already satisfied: click>=5.1 in /usr/local/lib/python3.6/dist-packages (from Flask>=0.8->flask-ngrok) (7.1.2)\n",
            "Requirement already satisfied: chardet<4,>=3.0.2 in /usr/local/lib/python3.6/dist-packages (from requests->flask-ngrok) (3.0.4)\n",
            "Requirement already satisfied: idna<3,>=2.5 in /usr/local/lib/python3.6/dist-packages (from requests->flask-ngrok) (2.9)\n",
            "Requirement already satisfied: urllib3!=1.25.0,!=1.25.1,<1.26,>=1.21.1 in /usr/local/lib/python3.6/dist-packages (from requests->flask-ngrok) (1.24.3)\n",
            "Requirement already satisfied: certifi>=2017.4.17 in /usr/local/lib/python3.6/dist-packages (from requests->flask-ngrok) (2020.4.5.1)\n",
            "Requirement already satisfied: MarkupSafe>=0.23 in /usr/local/lib/python3.6/dist-packages (from Jinja2>=2.10.1->Flask>=0.8->flask-ngrok) (1.1.1)\n",
            "\u001b[31mERROR: Operation cancelled by user\u001b[0m\n",
            " * Serving Flask app \"__main__\" (lazy loading)\n",
            " * Environment: production\n",
            "\u001b[31m   WARNING: This is a development server. Do not use it in a production deployment.\u001b[0m\n",
            "\u001b[2m   Use a production WSGI server instead.\u001b[0m\n",
            " * Debug mode: off\n"
          ],
          "name": "stdout"
        },
        {
          "output_type": "stream",
          "text": [
            " * Running on http://127.0.0.1:5000/ (Press CTRL+C to quit)\n"
          ],
          "name": "stderr"
        },
        {
          "output_type": "stream",
          "text": [
            " * Running on http://252c2236157c.ngrok.io\n",
            " * Traffic stats available on http://127.0.0.1:4040\n"
          ],
          "name": "stdout"
        }
      ]
    },
    {
      "cell_type": "code",
      "metadata": {
        "id": "uQxUdPctdZnE",
        "colab_type": "code",
        "colab": {}
      },
      "source": [
        ""
      ],
      "execution_count": 0,
      "outputs": []
    }
  ]
}